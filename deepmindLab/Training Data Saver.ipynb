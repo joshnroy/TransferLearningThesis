{
 "cells": [
  {
   "cell_type": "code",
   "execution_count": 2,
   "metadata": {},
   "outputs": [],
   "source": [
    "from __future__ import absolute_import\n",
    "from __future__ import division\n",
    "from __future__ import print_function"
   ]
  },
  {
   "cell_type": "code",
   "execution_count": 3,
   "metadata": {},
   "outputs": [],
   "source": [
    "import sys\n",
    "import numpy as np\n",
    "import six\n",
    "import cv2\n",
    "from tqdm import trange\n",
    "\n",
    "from seekavoid_gymlike_wrapper import SeekAvoidEnv\n",
    "\n",
    "import deepmind_lab"
   ]
  },
  {
   "cell_type": "code",
   "execution_count": 4,
   "metadata": {},
   "outputs": [],
   "source": [
    "def run(num_data_samples):\n",
    "    \"\"\"Construct and start the environment.\"\"\"\n",
    "\n",
    "    env = SeekAvoidEnv()\n",
    "    nb_actions = env.action_space.size\n",
    "\n",
    "    for i in trange(num_data_samples, file=sys.stdout):\n",
    "        observations = env.reset()\n",
    "        observations *= 255.\n",
    "        done = False\n",
    "        j = 0\n",
    "        while not done:\n",
    "            cv2.imwrite(\"training_observations2/obs_\" + str(i) + \"_\" + str(j) + \".png\", observations)\n",
    "            observations, reward, done, _ = env.step(np.random.randint(0, high=nb_actions))\n",
    "            observations *= 255.\n",
    "            j += 1"
   ]
  },
  {
   "cell_type": "code",
   "execution_count": 5,
   "metadata": {
    "scrolled": true
   },
   "outputs": [
    {
     "name": "stdout",
     "output_type": "stream",
     "text": [
      "100%|██████████| 5000/5000 [3:06:11<00:00,  2.03s/it]\n"
     ]
    }
   ],
   "source": [
    "run(5000)"
   ]
  },
  {
   "cell_type": "code",
   "execution_count": null,
   "metadata": {},
   "outputs": [],
   "source": []
  }
 ],
 "metadata": {
  "kernelspec": {
   "display_name": "Python 2",
   "language": "python",
   "name": "python2"
  },
  "language_info": {
   "codemirror_mode": {
    "name": "ipython",
    "version": 2
   },
   "file_extension": ".py",
   "mimetype": "text/x-python",
   "name": "python",
   "nbconvert_exporter": "python",
   "pygments_lexer": "ipython2",
   "version": "2.7.16"
  }
 },
 "nbformat": 4,
 "nbformat_minor": 2
}
