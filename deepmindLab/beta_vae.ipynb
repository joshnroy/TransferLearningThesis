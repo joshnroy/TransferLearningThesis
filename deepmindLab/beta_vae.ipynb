{
 "cells": [
  {
   "cell_type": "code",
   "execution_count": 1,
   "metadata": {},
   "outputs": [
    {
     "name": "stderr",
     "output_type": "stream",
     "text": [
      "Using TensorFlow backend.\n"
     ]
    }
   ],
   "source": [
    "from __future__ import absolute_import\n",
    "from __future__ import division\n",
    "from __future__ import print_function\n",
    "\n",
    "from keras.layers import Dense, Input\n",
    "from keras.layers import Conv2D, Flatten, Lambda\n",
    "from keras.layers import Reshape, Conv2DTranspose\n",
    "from keras.models import Model\n",
    "from keras.datasets import mnist\n",
    "from keras.losses import mse, binary_crossentropy, mean_absolute_error, mae\n",
    "from keras.optimizers import Adam\n",
    "from keras.utils import plot_model\n",
    "from keras import backend as K\n",
    "from keras.callbacks import ModelCheckpoint\n",
    "from keras.utils import Sequence\n",
    "\n",
    "\n",
    "import numpy as np\n",
    "import matplotlib.pyplot as plt\n",
    "import argparse\n",
    "import os\n",
    "import glob\n",
    "import cv2\n",
    "import sys\n",
    "import import_ipynb\n",
    "from tqdm import tqdm, trange"
   ]
  },
  {
   "cell_type": "code",
   "execution_count": 2,
   "metadata": {},
   "outputs": [
    {
     "name": "stdout",
     "output_type": "stream",
     "text": [
      "WARNING:tensorflow:From /home/josh/miniconda3/envs/deepmindLab/lib/python2.7/site-packages/tensorflow/python/framework/op_def_library.py:263: colocate_with (from tensorflow.python.framework.ops) is deprecated and will be removed in a future version.\n",
      "Instructions for updating:\n",
      "Colocations handled automatically by placer.\n",
      "_________________________________________________________________\n",
      "Layer (type)                 Output Shape              Param #   \n",
      "=================================================================\n",
      "denoising_encoder_input (Inp (None, 84, 84, 3)         0         \n",
      "_________________________________________________________________\n",
      "conv2d_1 (Conv2D)            (None, 42, 42, 32)        1568      \n",
      "_________________________________________________________________\n",
      "conv2d_2 (Conv2D)            (None, 21, 21, 32)        16416     \n",
      "_________________________________________________________________\n",
      "conv2d_3 (Conv2D)            (None, 11, 11, 64)        32832     \n",
      "_________________________________________________________________\n",
      "conv2d_4 (Conv2D)            (None, 6, 6, 64)          65600     \n",
      "_________________________________________________________________\n",
      "flatten_1 (Flatten)          (None, 2304)              0         \n",
      "_________________________________________________________________\n",
      "z (Dense)                    (None, 100)               230500    \n",
      "=================================================================\n",
      "Total params: 346,916\n",
      "Trainable params: 346,916\n",
      "Non-trainable params: 0\n",
      "_________________________________________________________________\n",
      "_________________________________________________________________\n",
      "Layer (type)                 Output Shape              Param #   \n",
      "=================================================================\n",
      "input_1 (InputLayer)         (None, 100)               0         \n",
      "_________________________________________________________________\n",
      "dense_1 (Dense)              (None, 2304)              232704    \n",
      "_________________________________________________________________\n",
      "reshape_1 (Reshape)          (None, 6, 6, 64)          0         \n",
      "_________________________________________________________________\n",
      "conv2d_transpose_1 (Conv2DTr (None, 12, 12, 64)        65600     \n",
      "_________________________________________________________________\n",
      "conv2d_transpose_2 (Conv2DTr (None, 24, 24, 64)        65600     \n",
      "_________________________________________________________________\n",
      "conv2d_transpose_3 (Conv2DTr (None, 48, 48, 32)        32800     \n",
      "_________________________________________________________________\n",
      "conv2d_transpose_4 (Conv2DTr (None, 96, 96, 32)        16416     \n",
      "_________________________________________________________________\n",
      "conv2d_transpose_5 (Conv2DTr (None, 96, 96, 3)         99        \n",
      "_________________________________________________________________\n",
      "lambda_1 (Lambda)            (None, 84, 84, 3)         0         \n",
      "=================================================================\n",
      "Total params: 413,219\n",
      "Trainable params: 413,219\n",
      "Non-trainable params: 0\n",
      "_________________________________________________________________\n"
     ]
    }
   ],
   "source": [
    "input_shape=(84, 84, 3)\n",
    "latent_dim = 100\n",
    "inputs = Input(shape=input_shape, name='denoising_encoder_input')\n",
    "x_inputs = Conv2D(filters=32, kernel_size=4, activation='relu', strides=2,\n",
    "                  padding='same')(inputs)\n",
    "x_inputs = Conv2D(filters=32, kernel_size=4, activation='relu', strides=2,\n",
    "                  padding='same')(x_inputs)\n",
    "x_inputs = Conv2D(filters=64, kernel_size=4, activation='relu', strides=2,\n",
    "                  padding='same')(x_inputs)\n",
    "x_inputs = Conv2D(filters=64, kernel_size=4, activation='relu', strides=2,\n",
    "                  padding='same')(x_inputs)\n",
    "\n",
    "x_inputs = Flatten()(x_inputs)\n",
    "z = Dense(latent_dim, name='z', activation='linear')(x_inputs)\n",
    "\n",
    "# instantiate encoder model\n",
    "encoder = Model(inputs, z, name='denoising_encoder')\n",
    "encoder.summary()\n",
    "\n",
    "# build decoder model\n",
    "latent_inputs = Input(shape=(latent_dim,))\n",
    "x_decoder = Dense(6 * 6 * 64, activation='relu')(latent_inputs)\n",
    "x_decoder = Reshape((6, 6, 64))(x_decoder)\n",
    "\n",
    "x_decoder = Conv2DTranspose(filters=64, kernel_size=4, activation='relu',\n",
    "                            strides=2, padding='same')(x_decoder)\n",
    "x_decoder = Conv2DTranspose(filters=64, kernel_size=4, activation='relu',\n",
    "                            strides=2, padding='same')(x_decoder)\n",
    "x_decoder = Conv2DTranspose(filters=32, kernel_size=4, activation='relu',\n",
    "                            strides=2, padding='same')(x_decoder)\n",
    "x_decoder = Conv2DTranspose(filters=32, kernel_size=4, activation='relu',\n",
    "                            strides=2, padding='same')(x_decoder)\n",
    "\n",
    "x_decoder = Conv2DTranspose(filters=3, kernel_size=1, strides=1,\n",
    "                            activation='linear', padding='same')(x_decoder)\n",
    "x_decoder = Lambda(lambda x: x[:, :84, :84, :])(x_decoder)\n",
    "\n",
    "# instantiate decoder model\n",
    "decoder = Model(latent_inputs, x_decoder, name='denoising_decoder')\n",
    "decoder.summary()\n",
    "\n",
    "# instantiate VAE model\n",
    "denoising = Model(inputs, decoder(encoder(inputs)), name='denoising')\n",
    "denoising.load_weights(\"denoising_autoencoder.h5\")"
   ]
  },
  {
   "cell_type": "code",
   "execution_count": 3,
   "metadata": {},
   "outputs": [],
   "source": [
    "# reparameterization trick\n",
    "# instead of sampling from Q(z|X), sample eps = N(0,I)\n",
    "# then z = z_mean + sqrt(var)*eps\n",
    "def sampling(args):\n",
    "    \"\"\"Reparameterization trick by sampling fr an isotropic unit Gaussian.\n",
    "    # Arguments\n",
    "        args (tensor): mean and log of variance of Q(z|X)\n",
    "\n",
    "    # Returns\n",
    "        z (tensor): sampled latent vector\n",
    "    \"\"\"\n",
    "\n",
    "    z_mean, z_log_var = args\n",
    "    batch = K.shape(z_mean)[0]\n",
    "    dim = K.int_shape(z_mean)[1]\n",
    "    # by default, random_normal has mean=0 and std=1.0\n",
    "    epsilon = K.random_normal(shape=(batch, dim))\n",
    "    # return z_mean + K.exp(0.5 * z_log_var) * epsilon\n",
    "    return z_mean"
   ]
  },
  {
   "cell_type": "code",
   "execution_count": 4,
   "metadata": {},
   "outputs": [
    {
     "name": "stdout",
     "output_type": "stream",
     "text": [
      "__________________________________________________________________________________________________\n",
      "Layer (type)                    Output Shape         Param #     Connected to                     \n",
      "==================================================================================================\n",
      "encoder_input (InputLayer)      (None, 84, 84, 3)    0                                            \n",
      "__________________________________________________________________________________________________\n",
      "conv2d_5 (Conv2D)               (None, 42, 42, 32)   1568        encoder_input[0][0]              \n",
      "__________________________________________________________________________________________________\n",
      "conv2d_6 (Conv2D)               (None, 21, 21, 32)   16416       conv2d_5[0][0]                   \n",
      "__________________________________________________________________________________________________\n",
      "conv2d_7 (Conv2D)               (None, 11, 11, 64)   32832       conv2d_6[0][0]                   \n",
      "__________________________________________________________________________________________________\n",
      "conv2d_8 (Conv2D)               (None, 6, 6, 64)     65600       conv2d_7[0][0]                   \n",
      "__________________________________________________________________________________________________\n",
      "flatten_2 (Flatten)             (None, 2304)         0           conv2d_8[0][0]                   \n",
      "__________________________________________________________________________________________________\n",
      "dense_2 (Dense)                 (None, 256)          590080      flatten_2[0][0]                  \n",
      "__________________________________________________________________________________________________\n",
      "z_mean (Dense)                  (None, 32)           8224        dense_2[0][0]                    \n",
      "__________________________________________________________________________________________________\n",
      "z_log_var (Dense)               (None, 32)           8224        dense_2[0][0]                    \n",
      "__________________________________________________________________________________________________\n",
      "z (Lambda)                      (None, 32)           0           z_mean[0][0]                     \n",
      "                                                                 z_log_var[0][0]                  \n",
      "==================================================================================================\n",
      "Total params: 722,944\n",
      "Trainable params: 722,944\n",
      "Non-trainable params: 0\n",
      "__________________________________________________________________________________________________\n",
      "_________________________________________________________________\n",
      "Layer (type)                 Output Shape              Param #   \n",
      "=================================================================\n",
      "input_2 (InputLayer)         (None, 32)                0         \n",
      "_________________________________________________________________\n",
      "dense_3 (Dense)              (None, 256)               8448      \n",
      "_________________________________________________________________\n",
      "dense_4 (Dense)              (None, 2304)              592128    \n",
      "_________________________________________________________________\n",
      "reshape_2 (Reshape)          (None, 6, 6, 64)          0         \n",
      "_________________________________________________________________\n",
      "conv2d_transpose_6 (Conv2DTr (None, 12, 12, 64)        65600     \n",
      "_________________________________________________________________\n",
      "conv2d_transpose_7 (Conv2DTr (None, 24, 24, 64)        65600     \n",
      "_________________________________________________________________\n",
      "conv2d_transpose_8 (Conv2DTr (None, 48, 48, 32)        32800     \n",
      "_________________________________________________________________\n",
      "conv2d_transpose_9 (Conv2DTr (None, 96, 96, 32)        16416     \n",
      "_________________________________________________________________\n",
      "conv2d_transpose_10 (Conv2DT (None, 96, 96, 3)         99        \n",
      "_________________________________________________________________\n",
      "lambda_2 (Lambda)            (None, 84, 84, 3)         0         \n",
      "=================================================================\n",
      "Total params: 781,091\n",
      "Trainable params: 781,091\n",
      "Non-trainable params: 0\n",
      "_________________________________________________________________\n"
     ]
    }
   ],
   "source": [
    "# network parameters\n",
    "latent_dim = 32\n",
    "input_shape = (84, 84, 3)\n",
    "\n",
    "# build encoder model\n",
    "inputs = Input(shape=input_shape, name='encoder_input')\n",
    "x_inputs = Conv2D(filters=32, kernel_size=4, activation='relu', strides=2,\n",
    "                  padding='same')(inputs)\n",
    "x_inputs = Conv2D(filters=32, kernel_size=4, activation='relu', strides=2,\n",
    "                  padding='same')(x_inputs)\n",
    "x_inputs = Conv2D(filters=64, kernel_size=4, activation='relu', strides=2,\n",
    "                  padding='same')(x_inputs)\n",
    "x_inputs = Conv2D(filters=64, kernel_size=4, activation='relu', strides=2,\n",
    "                  padding='same')(x_inputs)\n",
    "\n",
    "x_inputs = Flatten()(x_inputs)\n",
    "x_inputs = Dense(256, activation='relu')(x_inputs)\n",
    "z_mean = Dense(latent_dim, name='z_mean', activation='linear')(x_inputs)\n",
    "z_log_var = Dense(latent_dim, name='z_log_var', activation='linear')(x_inputs)\n",
    "\n",
    "z = Lambda(sampling, output_shape=(latent_dim,), name='z')([z_mean, z_log_var])\n",
    "\n",
    "# instantiate encoder model\n",
    "encoder = Model(inputs, [z_mean, z_log_var, z], name='encoder')\n",
    "encoder.summary()\n",
    "\n",
    "\n",
    "# build decoder model\n",
    "latent_inputs = Input(shape=(latent_dim,))\n",
    "x_decoder = Dense(256, activation='relu')(latent_inputs)\n",
    "x_decoder = Dense(6 * 6 * 64, activation='relu')(x_decoder)\n",
    "x_decoder = Reshape((6, 6, 64))(x_decoder)\n",
    "\n",
    "x_decoder = Conv2DTranspose(filters=64, kernel_size=4, activation='relu',\n",
    "                            strides=2, padding='same')(x_decoder)\n",
    "x_decoder = Conv2DTranspose(filters=64, kernel_size=4, activation='relu',\n",
    "                            strides=2, padding='same')(x_decoder)\n",
    "x_decoder = Conv2DTranspose(filters=32, kernel_size=4, activation='relu',\n",
    "                            strides=2, padding='same')(x_decoder)\n",
    "x_decoder = Conv2DTranspose(filters=32, kernel_size=4, activation='relu',\n",
    "                            strides=2, padding='same')(x_decoder)\n",
    "\n",
    "x_decoder = Conv2DTranspose(filters=3, kernel_size=1, strides=1,\n",
    "                            activation='linear', padding='same')(x_decoder)\n",
    "x_decoder = Lambda(lambda x: x[:, :84, :84, :])(x_decoder)\n",
    "\n",
    "# instantiate decoder model\n",
    "decoder = Model(latent_inputs, x_decoder, name='decoder')\n",
    "decoder.summary()\n",
    "\n",
    "# instantiate VAE model\n",
    "encoder_outputs = encoder(inputs)\n",
    "outputs = [encoder_outputs[0], encoder_outputs[1], decoder(encoder_outputs[2])]\n",
    "vae = Model(inputs, outputs, name='vae')"
   ]
  },
  {
   "cell_type": "code",
   "execution_count": 5,
   "metadata": {},
   "outputs": [
    {
     "name": "stdout",
     "output_type": "stream",
     "text": [
      "_________________________________________________________________\n",
      "Layer (type)                 Output Shape              Param #   \n",
      "=================================================================\n",
      "denoising_encoder_input (Inp (None, 84, 84, 3)         0         \n",
      "_________________________________________________________________\n",
      "conv2d_1 (Conv2D)            (None, 42, 42, 32)        1568      \n",
      "_________________________________________________________________\n",
      "conv2d_2 (Conv2D)            (None, 21, 21, 32)        16416     \n",
      "_________________________________________________________________\n",
      "conv2d_3 (Conv2D)            (None, 11, 11, 64)        32832     \n",
      "_________________________________________________________________\n",
      "conv2d_4 (Conv2D)            (None, 6, 6, 64)          65600     \n",
      "_________________________________________________________________\n",
      "flatten_1 (Flatten)          (None, 2304)              0         \n",
      "_________________________________________________________________\n",
      "z (Dense)                    (None, 100)               230500    \n",
      "=================================================================\n",
      "Total params: 346,916\n",
      "Trainable params: 0\n",
      "Non-trainable params: 346,916\n",
      "_________________________________________________________________\n"
     ]
    }
   ],
   "source": [
    "denoising_encoder = Model(denoising.inputs, denoising.layers[-2].outputs)\n",
    "for layer in denoising_encoder.layers:\n",
    "    layer.trainable = False\n",
    "denoising_encoder.summary()"
   ]
  },
  {
   "cell_type": "code",
   "execution_count": 6,
   "metadata": {},
   "outputs": [
    {
     "name": "stderr",
     "output_type": "stream",
     "text": [
      "100%|██████████| 300/300 [00:00<00:00, 4799.16it/s]"
     ]
    },
    {
     "name": "stdout",
     "output_type": "stream",
     "text": [
      "(300, 84, 84, 3)\n",
      "1.0\n"
     ]
    },
    {
     "name": "stderr",
     "output_type": "stream",
     "text": [
      "\n"
     ]
    }
   ],
   "source": [
    "def load_small_dataset():\n",
    "    imgs = np.asarray([cv2.imread(x) for x in tqdm(glob.glob(\"training_observations2/*.png\")[:300])])\n",
    "    print(imgs.shape)\n",
    "    x_train = imgs[:128, :]\n",
    "    x_test = imgs[128:, :]\n",
    "    x_train = x_train.astype('float32') / 255.\n",
    "    x_test = x_test.astype('float32') / 255.\n",
    "    y_train = np.array([])\n",
    "    y_test = np.array([])\n",
    "    image_size = imgs.shape[1]\n",
    "    input_shape = (image_size, image_size, 3)\n",
    "    \n",
    "    return x_train, y_train, x_test, y_test, image_size, input_shape\n",
    "\n",
    "x_train, y_train, x_test, y_test, image_size, input_shape = load_small_dataset()\n",
    "print(x_train.max())"
   ]
  },
  {
   "cell_type": "code",
   "execution_count": 7,
   "metadata": {},
   "outputs": [
    {
     "name": "stdout",
     "output_type": "stream",
     "text": [
      "Tensor(\"mul:0\", shape=(?,), dtype=float32) Tensor(\"Sum:0\", shape=(?,), dtype=float32)\n",
      "_________________________________________________________________\n",
      "Layer (type)                 Output Shape              Param #   \n",
      "=================================================================\n",
      "encoder_input (InputLayer)   (None, 84, 84, 3)         0         \n",
      "_________________________________________________________________\n",
      "encoder (Model)              [(None, 32), (None, 32),  722944    \n",
      "_________________________________________________________________\n",
      "decoder (Model)              (None, 84, 84, 3)         781091    \n",
      "=================================================================\n",
      "Total params: 1,504,035\n",
      "Trainable params: 1,504,035\n",
      "Non-trainable params: 0\n",
      "_________________________________________________________________\n"
     ]
    }
   ],
   "source": [
    "# reconstruction_loss = mse(denoising_encoder(inputs), denoising_encoder(outputs[2]))\n",
    "# reconstruction_loss *= 100\n",
    "reconstruction_loss = K.square(denoising_encoder(inputs) - denoising_encoder(outputs[2]))\n",
    "reconstruction_loss = K.sum(reconstruction_loss, axis=-1)\n",
    "beta = 175.\n",
    "kl_loss = 1 + outputs[0] - K.square(outputs[1]) - K.exp(outputs[0])\n",
    "kl_loss = K.sum(kl_loss, axis=-1)\n",
    "kl_loss *= -0.5\n",
    "print(kl_loss, reconstruction_loss)\n",
    "vae_loss = K.mean(reconstruction_loss + beta * kl_loss)\n",
    "vae.add_loss(vae_loss)\n",
    "learning_rate = 1e-4\n",
    "adam = Adam(lr=learning_rate)\n",
    "vae.compile(optimizer=adam)\n",
    "vae.summary()"
   ]
  },
  {
   "cell_type": "code",
   "execution_count": 8,
   "metadata": {},
   "outputs": [],
   "source": [
    "class DataSequence(Sequence):\n",
    "    def __init__(self, batch_size=128):\n",
    "        self.batch_size = batch_size\n",
    "        self.filenames = glob.glob(\"training_observations2/*.png\")[:100000]\n",
    "        self.image_size = 84\n",
    "        self.on_epoch_end()\n",
    "        \n",
    "    def on_epoch_end(self):\n",
    "        np.random.shuffle(self.filenames)\n",
    "    \n",
    "    def __len__(self):\n",
    "        return int(np.floor(len(self.filenames) / self.batch_size))\n",
    "    \n",
    "    def __getitem__(self, idx):\n",
    "        batch_x = np.asarray([cv2.imread(x) for x in self.filenames[idx * self.batch_size:(idx + 1) * self.batch_size]])\n",
    "        batch_x = batch_x.astype('float32') / 255.\n",
    "        return batch_x, None\n",
    "        "
   ]
  },
  {
   "cell_type": "code",
   "execution_count": 9,
   "metadata": {},
   "outputs": [
    {
     "name": "stdout",
     "output_type": "stream",
     "text": [
      "WARNING:tensorflow:From /home/josh/miniconda3/envs/deepmindLab/lib/python2.7/site-packages/tensorflow/python/ops/math_ops.py:3066: to_int32 (from tensorflow.python.ops.math_ops) is deprecated and will be removed in a future version.\n",
      "Instructions for updating:\n",
      "Use tf.cast instead.\n",
      "Epoch 1/5\n",
      "10000/10000 [==============================] - 87s 9ms/step - loss: 20.7268 - val_loss: 11.5024\n",
      "Epoch 2/5\n",
      "10000/10000 [==============================] - 87s 9ms/step - loss: 9.8764 - val_loss: 9.0213\n",
      "Epoch 3/5\n",
      "10000/10000 [==============================] - 87s 9ms/step - loss: 7.6497 - val_loss: 6.9949\n",
      "Epoch 4/5\n",
      "10000/10000 [==============================] - 87s 9ms/step - loss: 6.0955 - val_loss: 5.6761\n",
      "Epoch 5/5\n",
      "10000/10000 [==============================] - 87s 9ms/step - loss: 5.1361 - val_loss: 4.9784\n"
     ]
    }
   ],
   "source": [
    "epochs = 5\n",
    "batch_size = 10\n",
    "steps_per_epoch = int(np.round(len(glob.glob(\"training_observations2/*.png\")) / batch_size))\n",
    "checkpoint = ModelCheckpoint('beta_vae_checkpoint.h5', monitor='val_loss', \n",
    "                             verbose=0, save_best_only=True, mode='min', save_weights_only=True)\n",
    "\n",
    "img_generator = DataSequence(batch_size=batch_size)\n",
    "history = vae.fit_generator(img_generator, epochs=epochs, \n",
    "                            workers=7, callbacks=[checkpoint], validation_data=(x_test, None))"
   ]
  },
  {
   "cell_type": "code",
   "execution_count": 10,
   "metadata": {},
   "outputs": [
    {
     "data": {
      "image/png": "[encoded data removed]",
      "text/plain": [
       "<Figure size 432x288 with 1 Axes>"
      ]
     },
     "metadata": {
      "needs_background": "light"
     },
     "output_type": "display_data"
    }
   ],
   "source": [
    "plt.plot(history.history['loss'], label='train')\n",
    "plt.plot(history.history['val_loss'], label='test')\n",
    "plt.legend(['train', 'test'])\n",
    "plt.show()"
   ]
  },
  {
   "cell_type": "code",
   "execution_count": 11,
   "metadata": {},
   "outputs": [],
   "source": [
    "vae.save_weights('darla_vae.h5')"
   ]
  },
  {
   "cell_type": "code",
   "execution_count": 12,
   "metadata": {},
   "outputs": [
    {
     "data": {
      "text/plain": [
       "<matplotlib.image.AxesImage at 0x7f1968fb0990>"
      ]
     },
     "execution_count": 12,
     "metadata": {},
     "output_type": "execute_result"
    },
    {
     "data": {
      "image/png": "[encoded data removed]",
      "text/plain": [
       "<Figure size 432x288 with 1 Axes>"
      ]
     },
     "metadata": {
      "needs_background": "light"
     },
     "output_type": "display_data"
    }
   ],
   "source": [
    "%matplotlib inline\n",
    "from matplotlib.pyplot import imshow\n",
    "imshow(x_train[35])"
   ]
  },
  {
   "cell_type": "code",
   "execution_count": 13,
   "metadata": {},
   "outputs": [
    {
     "name": "stdout",
     "output_type": "stream",
     "text": [
      "1.0 0.5861411 0.0\n",
      "1.1590979 0.58824146 -0.117327586\n"
     ]
    },
    {
     "data": {
      "image/png": "[encoded data removed]",
      "text/plain": [
       "<Figure size 432x288 with 1 Axes>"
      ]
     },
     "metadata": {
      "needs_background": "light"
     },
     "output_type": "display_data"
    }
   ],
   "source": [
    "predicted_imgs = vae.predict(x_train, batch_size=batch_size)[2]\n",
    "print(x_train.max(), x_train.mean(), x_train.min())\n",
    "\n",
    "if False:\n",
    "    print(predicted_imgs.max(), predicted_imgs.mean(), predicted_imgs.min())\n",
    "    predicted_imgs = (predicted_imgs - predicted_imgs.min()) / (predicted_imgs.max() - predicted_imgs.min())\n",
    "    print(predicted_imgs.max(), predicted_imgs.mean(), predicted_imgs.min())\n",
    "    imshow(predicted_imgs[118])\n",
    "else:\n",
    "    denoised_predicted = denoising.predict(predicted_imgs)\n",
    "    print(denoised_predicted.max(), denoised_predicted.mean(), denoised_predicted.min())\n",
    "    denoised_predicted = np.clip(denoised_predicted, 0., 1.)\n",
    "    imshow(denoised_predicted[35])"
   ]
  },
  {
   "cell_type": "code",
   "execution_count": null,
   "metadata": {},
   "outputs": [],
   "source": []
  }
 ],
 "metadata": {
  "kernelspec": {
   "display_name": "Python 2",
   "language": "python",
   "name": "python2"
  },
  "language_info": {
   "codemirror_mode": {
    "name": "ipython",
    "version": 2
   },
   "file_extension": ".py",
   "mimetype": "text/x-python",
   "name": "python",
   "nbconvert_exporter": "python",
   "pygments_lexer": "ipython2",
   "version": "2.7.16"
  }
 },
 "nbformat": 4,
 "nbformat_minor": 2
}
