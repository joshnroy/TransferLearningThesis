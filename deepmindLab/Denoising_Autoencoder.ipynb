{
 "cells": [
  {
   "cell_type": "code",
   "execution_count": 1,
   "metadata": {},
   "outputs": [
    {
     "name": "stderr",
     "output_type": "stream",
     "text": [
      "Using TensorFlow backend.\n"
     ]
    }
   ],
   "source": [
    "from __future__ import absolute_import\n",
    "from __future__ import division\n",
    "from __future__ import print_function\n",
    "\n",
    "from keras.layers import Dense, Input\n",
    "from keras.layers import Conv2D, Flatten, Lambda\n",
    "from keras.layers import Reshape, Conv2DTranspose\n",
    "from keras.models import Model\n",
    "from keras.datasets import mnist\n",
    "from keras.losses import mse, binary_crossentropy, mean_absolute_error\n",
    "from keras.optimizers import Adam\n",
    "from keras.utils import plot_model\n",
    "from keras import backend as K\n",
    "from keras.callbacks import ModelCheckpoint\n",
    "from keras.utils import Sequence\n",
    "\n",
    "import numpy as np\n",
    "import matplotlib.pyplot as plt\n",
    "import argparse\n",
    "import os\n",
    "import glob\n",
    "import cv2\n",
    "import sys\n",
    "from tqdm import tqdm\n",
    "from matplotlib.pyplot import imshow\n",
    "%matplotlib inline"
   ]
  },
  {
   "cell_type": "code",
   "execution_count": 2,
   "metadata": {},
   "outputs": [
    {
     "name": "stderr",
     "output_type": "stream",
     "text": [
      "100%|██████████| 300/300 [00:00<00:00, 4815.65it/s]"
     ]
    },
    {
     "name": "stdout",
     "output_type": "stream",
     "text": [
      "(300, 84, 84, 3)\n",
      "1.0\n"
     ]
    },
    {
     "name": "stderr",
     "output_type": "stream",
     "text": [
      "\n"
     ]
    }
   ],
   "source": [
    "def load_small_dataset():\n",
    "    imgs = np.asarray([cv2.imread(x) for x in tqdm(glob.glob(\"training_observations2/*.png\")[:300])])\n",
    "    print(imgs.shape)\n",
    "    x_train = imgs[:128, :]\n",
    "    x_test = imgs[128:, :]\n",
    "    x_train = x_train.astype('float32') / 255\n",
    "    x_test = x_test.astype('float32') / 255\n",
    "    y_train = np.array([])\n",
    "    y_test = np.array([])\n",
    "    image_size = imgs.shape[1]\n",
    "    input_shape = (image_size, image_size, 3)\n",
    "    \n",
    "    return x_train, y_train, x_test, y_test, image_size, input_shape\n",
    "\n",
    "x_train, y_train, x_test, y_test, image_size, input_shape = load_small_dataset()\n",
    "print(x_train.max())"
   ]
  },
  {
   "cell_type": "code",
   "execution_count": 3,
   "metadata": {
    "scrolled": true
   },
   "outputs": [
    {
     "name": "stdout",
     "output_type": "stream",
     "text": [
      "WARNING:tensorflow:From /home/josh/miniconda3/envs/deepmindLab/lib/python2.7/site-packages/tensorflow/python/framework/op_def_library.py:263: colocate_with (from tensorflow.python.framework.ops) is deprecated and will be removed in a future version.\n",
      "Instructions for updating:\n",
      "Colocations handled automatically by placer.\n",
      "_________________________________________________________________\n",
      "Layer (type)                 Output Shape              Param #   \n",
      "=================================================================\n",
      "encoder_input (InputLayer)   (None, 84, 84, 3)         0         \n",
      "_________________________________________________________________\n",
      "conv2d_1 (Conv2D)            (None, 42, 42, 32)        1568      \n",
      "_________________________________________________________________\n",
      "conv2d_2 (Conv2D)            (None, 21, 21, 32)        16416     \n",
      "_________________________________________________________________\n",
      "conv2d_3 (Conv2D)            (None, 11, 11, 64)        32832     \n",
      "_________________________________________________________________\n",
      "conv2d_4 (Conv2D)            (None, 6, 6, 64)          65600     \n",
      "_________________________________________________________________\n",
      "flatten_1 (Flatten)          (None, 2304)              0         \n",
      "_________________________________________________________________\n",
      "z (Dense)                    (None, 100)               230500    \n",
      "=================================================================\n",
      "Total params: 346,916\n",
      "Trainable params: 346,916\n",
      "Non-trainable params: 0\n",
      "_________________________________________________________________\n",
      "_________________________________________________________________\n",
      "Layer (type)                 Output Shape              Param #   \n",
      "=================================================================\n",
      "input_1 (InputLayer)         (None, 100)               0         \n",
      "_________________________________________________________________\n",
      "dense_1 (Dense)              (None, 2304)              232704    \n",
      "_________________________________________________________________\n",
      "reshape_1 (Reshape)          (None, 6, 6, 64)          0         \n",
      "_________________________________________________________________\n",
      "conv2d_transpose_1 (Conv2DTr (None, 12, 12, 64)        65600     \n",
      "_________________________________________________________________\n",
      "conv2d_transpose_2 (Conv2DTr (None, 24, 24, 64)        65600     \n",
      "_________________________________________________________________\n",
      "conv2d_transpose_3 (Conv2DTr (None, 48, 48, 32)        32800     \n",
      "_________________________________________________________________\n",
      "conv2d_transpose_4 (Conv2DTr (None, 96, 96, 32)        16416     \n",
      "_________________________________________________________________\n",
      "conv2d_transpose_5 (Conv2DTr (None, 96, 96, 3)         99        \n",
      "_________________________________________________________________\n",
      "lambda_1 (Lambda)            (None, 84, 84, 3)         0         \n",
      "=================================================================\n",
      "Total params: 413,219\n",
      "Trainable params: 413,219\n",
      "Non-trainable params: 0\n",
      "_________________________________________________________________\n"
     ]
    }
   ],
   "source": [
    "# network parameters\n",
    "batch_size = 128\n",
    "latent_dim = 100\n",
    "\n",
    "# build encoder model\n",
    "inputs = Input(shape=input_shape, name='encoder_input')\n",
    "x_inputs = Conv2D(filters=32, kernel_size=4, activation='relu', strides=2,\n",
    "                  padding='same')(inputs)\n",
    "x_inputs = Conv2D(filters=32, kernel_size=4, activation='relu', strides=2,\n",
    "                  padding='same')(x_inputs)\n",
    "x_inputs = Conv2D(filters=64, kernel_size=4, activation='relu', strides=2,\n",
    "                  padding='same')(x_inputs)\n",
    "x_inputs = Conv2D(filters=64, kernel_size=4, activation='relu', strides=2,\n",
    "                  padding='same')(x_inputs)\n",
    "\n",
    "x_inputs = Flatten()(x_inputs)\n",
    "z = Dense(latent_dim, name='z', activation='linear')(x_inputs)\n",
    "\n",
    "# instantiate encoder model\n",
    "encoder = Model(inputs, z, name='encoder')\n",
    "encoder.summary()\n",
    "\n",
    "# build decoder model\n",
    "latent_inputs = Input(shape=(latent_dim,))\n",
    "x_decoder = Dense(6 * 6 * 64, activation='relu')(latent_inputs)\n",
    "x_decoder = Reshape((6, 6, 64))(x_decoder)\n",
    "\n",
    "x_decoder = Conv2DTranspose(filters=64, kernel_size=4, activation='relu',\n",
    "                            strides=2, padding='same')(x_decoder)\n",
    "x_decoder = Conv2DTranspose(filters=64, kernel_size=4, activation='relu',\n",
    "                            strides=2, padding='same')(x_decoder)\n",
    "x_decoder = Conv2DTranspose(filters=32, kernel_size=4, activation='relu',\n",
    "                            strides=2, padding='same')(x_decoder)\n",
    "x_decoder = Conv2DTranspose(filters=32, kernel_size=4, activation='relu',\n",
    "                            strides=2, padding='same')(x_decoder)\n",
    "\n",
    "x_decoder = Conv2DTranspose(filters=3, kernel_size=1, strides=1,\n",
    "                            activation='linear', padding='same')(x_decoder)\n",
    "x_decoder = Lambda(lambda x: x[:, :84, :84, :])(x_decoder)\n",
    "\n",
    "# instantiate decoder model\n",
    "decoder = Model(latent_inputs, x_decoder, name='decoder')\n",
    "decoder.summary()\n",
    "\n",
    "# instantiate VAE model\n",
    "vae = Model(inputs, decoder(encoder(inputs)), name='vae')"
   ]
  },
  {
   "cell_type": "code",
   "execution_count": 4,
   "metadata": {
    "scrolled": false
   },
   "outputs": [
    {
     "name": "stdout",
     "output_type": "stream",
     "text": [
      "_________________________________________________________________\n",
      "Layer (type)                 Output Shape              Param #   \n",
      "=================================================================\n",
      "encoder_input (InputLayer)   (None, 84, 84, 3)         0         \n",
      "_________________________________________________________________\n",
      "encoder (Model)              (None, 100)               346916    \n",
      "_________________________________________________________________\n",
      "decoder (Model)              (None, 84, 84, 3)         413219    \n",
      "=================================================================\n",
      "Total params: 760,135\n",
      "Trainable params: 760,135\n",
      "Non-trainable params: 0\n",
      "_________________________________________________________________\n"
     ]
    }
   ],
   "source": [
    "learning_rate = 1e-3\n",
    "\n",
    "adam = Adam(lr=learning_rate)\n",
    "vae.compile(optimizer=adam, loss='mse')\n",
    "vae.summary()"
   ]
  },
  {
   "cell_type": "code",
   "execution_count": 5,
   "metadata": {},
   "outputs": [],
   "source": [
    "class DataSequence(Sequence):\n",
    "    def __init__(self, batch_size=128):\n",
    "        self.batch_size = batch_size\n",
    "        self.filenames = glob.glob(\"training_observations2/*.png\")\n",
    "        self.image_size = 84\n",
    "        self.on_epoch_end()\n",
    "        \n",
    "    def on_epoch_end(self):\n",
    "        np.random.shuffle(self.filenames)\n",
    "    \n",
    "    def __len__(self):\n",
    "        return int(np.floor(len(self.filenames) / self.batch_size))\n",
    "    \n",
    "    def __getitem__(self, idx):\n",
    "        batch_x = np.asarray([cv2.imread(x) for x in self.filenames[idx * self.batch_size:(idx + 1) * self.batch_size]])\n",
    "        batch_x = batch_x.astype('float32') / 255.\n",
    "        random_top = np.random.randint(0, self.image_size, self.batch_size)\n",
    "        random_bottom = np.array([np.random.randint(x, self.image_size) for x in random_top])\n",
    "        random_left = np.random.randint(0, self.image_size, self.batch_size)\n",
    "        random_right = np.array([np.random.randint(x, self.image_size) for x in random_left])\n",
    "        batch_x_masked = []\n",
    "        for i in range(batch_x.shape[0]):\n",
    "            img = batch_x[i, :]\n",
    "            img[random_top[i]:random_bottom[i], random_left[i]:random_right[i], :] = 0.\n",
    "            batch_x_masked.append(img)\n",
    "        batch_x_masked = np.asarray(batch_x_masked)\n",
    "        return batch_x_masked, batch_x\n",
    "        "
   ]
  },
  {
   "cell_type": "code",
   "execution_count": 6,
   "metadata": {
    "scrolled": true
   },
   "outputs": [
    {
     "name": "stdout",
     "output_type": "stream",
     "text": [
      "WARNING:tensorflow:From /home/josh/miniconda3/envs/deepmindLab/lib/python2.7/site-packages/tensorflow/python/ops/math_ops.py:3066: to_int32 (from tensorflow.python.ops.math_ops) is deprecated and will be removed in a future version.\n",
      "Instructions for updating:\n",
      "Use tf.cast instead.\n",
      "Epoch 1/5\n",
      "14056/14056 [==============================] - 630s 45ms/step - loss: 0.0064 - val_loss: 0.0023\n",
      "Epoch 2/5\n",
      "14056/14056 [==============================] - 627s 45ms/step - loss: 0.0024 - val_loss: 0.0019\n",
      "Epoch 3/5\n",
      "14056/14056 [==============================] - 627s 45ms/step - loss: 0.0020 - val_loss: 0.0017\n",
      "Epoch 4/5\n",
      "14056/14056 [==============================] - 627s 45ms/step - loss: 0.0018 - val_loss: 0.0016\n",
      "Epoch 5/5\n",
      "14056/14056 [==============================] - 627s 45ms/step - loss: 0.0017 - val_loss: 0.0016\n"
     ]
    }
   ],
   "source": [
    "epochs = 5\n",
    "checkpoint = ModelCheckpoint('denoising_autoencoder_checkpoint.h5', monitor='val_loss', \n",
    "                             verbose=0, save_best_only=True, mode='min', save_weights_only=True)\n",
    "\n",
    "img_generator = DataSequence(batch_size=batch_size)\n",
    "\n",
    "history = vae.fit_generator(img_generator, epochs=epochs, \n",
    "                            workers=7, callbacks=[checkpoint], validation_data=(x_test, x_test))\n",
    "\n",
    "\n",
    "vae.save_weights('denoising_autoencoder.h5')\n",
    "# vae.load_weights('denoising_autoencoder.h5')"
   ]
  },
  {
   "cell_type": "code",
   "execution_count": 7,
   "metadata": {},
   "outputs": [
    {
     "data": {
      "image/png": "[encoded data removed]",
      "text/plain": [
       "<Figure size 432x288 with 1 Axes>"
      ]
     },
     "metadata": {
      "needs_background": "light"
     },
     "output_type": "display_data"
    }
   ],
   "source": [
    "loss = history.history['loss']\n",
    "val_loss = history.history['val_loss']\n",
    "\n",
    "plt.plot(loss, label='loss')\n",
    "plt.plot(val_loss, label='val loss')\n",
    "plt.title(\"loss and val loss\")\n",
    "plt.xlabel(\"epochs\")\n",
    "plt.ylabel(\"loss\")\n",
    "plt.legend()\n",
    "plt.show()"
   ]
  },
  {
   "cell_type": "code",
   "execution_count": 19,
   "metadata": {},
   "outputs": [
    {
     "name": "stdout",
     "output_type": "stream",
     "text": [
      "train\n",
      "1.0 0.5861411 0.0\n",
      "1.2812868 0.5952552 -0.10345326\n"
     ]
    },
    {
     "data": {
      "text/plain": [
       "<matplotlib.image.AxesImage at 0x7feff3672690>"
      ]
     },
     "execution_count": 19,
     "metadata": {},
     "output_type": "execute_result"
    },
    {
     "data": {
      "image/png": "[encoded data removed]",
      "text/plain": [
       "<Figure size 432x288 with 1 Axes>"
      ]
     },
     "metadata": {
      "needs_background": "light"
     },
     "output_type": "display_data"
    }
   ],
   "source": [
    "predicted_imgs = vae.predict(x_test, batch_size=batch_size)\n",
    "print(\"train\")\n",
    "print(x_train.max(), x_train.mean(), x_train.min())\n",
    "print(predicted_imgs.max(), predicted_imgs.mean(), predicted_imgs.min())\n",
    "imshow(x_test[127])"
   ]
  },
  {
   "cell_type": "code",
   "execution_count": 20,
   "metadata": {},
   "outputs": [
    {
     "data": {
      "text/plain": [
       "<matplotlib.image.AxesImage at 0x7feff35e35d0>"
      ]
     },
     "execution_count": 20,
     "metadata": {},
     "output_type": "execute_result"
    },
    {
     "data": {
      "image/png": "[encoded data removed]",
      "text/plain": [
       "<Figure size 432x288 with 1 Axes>"
      ]
     },
     "metadata": {
      "needs_background": "light"
     },
     "output_type": "display_data"
    }
   ],
   "source": [
    "predicted_imgs = np.clip(predicted_imgs, 0., 1.)\n",
    "imshow(predicted_imgs[127])"
   ]
  },
  {
   "cell_type": "code",
   "execution_count": 10,
   "metadata": {},
   "outputs": [],
   "source": [
    "# # Test the autoencoder\n",
    "# predicted_outputs = vae.predict(x_test, batch_size=batch_size)\n",
    "# predicted_imgs = predicted_outputs[2]\n",
    "# print(\"test\")\n",
    "# print(x_test.max(), x_test.min(), x_test.mean())\n",
    "# print(predicted_imgs.max(), predicted_imgs.min(), predicted_imgs.mean())\n",
    "# # x_test *= 255.\n",
    "# # predicted_imgs *= 255.\n",
    "# for i in range(3):\n",
    "#     print(x_test[i].shape)\n",
    "#     imshow(x_test[i, :])\n",
    "# #     imshow(predicted_imgs[i])"
   ]
  },
  {
   "cell_type": "code",
   "execution_count": null,
   "metadata": {},
   "outputs": [],
   "source": []
  }
 ],
 "metadata": {
  "kernelspec": {
   "display_name": "Python 2",
   "language": "python",
   "name": "python2"
  },
  "language_info": {
   "codemirror_mode": {
    "name": "ipython",
    "version": 2
   },
   "file_extension": ".py",
   "mimetype": "text/x-python",
   "name": "python",
   "nbconvert_exporter": "python",
   "pygments_lexer": "ipython2",
   "version": "2.7.16"
  }
 },
 "nbformat": 4,
 "nbformat_minor": 2
}
